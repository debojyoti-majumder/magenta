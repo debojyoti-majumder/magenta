{
 "cells": [
  {
   "cell_type": "code",
   "execution_count": 39,
   "metadata": {},
   "outputs": [],
   "source": [
    "%matplotlib inline\n",
    "import seaborn # import before other plotting libraries\n",
    "import numpy, scipy, matplotlib.pyplot as plt, sklearn, urllib, IPython.display\n",
    "import librosa, librosa.display\n",
    "\n",
    "plt.rcParams['figure.figsize'] = (11, 5)\n"
   ]
  },
  {
   "cell_type": "code",
   "execution_count": 40,
   "metadata": {},
   "outputs": [
    {
     "name": "stdout",
     "output_type": "stream",
     "text": [
      "(array([  5.06403670e-02,  -9.34149101e-02,   1.25915676e-01, ...,\n",
      "         2.55243685e-05,   1.95788562e-05,   0.00000000e+00], dtype=float32), 22050)\n",
      "(array([  5.60793243e-02,  -1.07340194e-01,   1.49740338e-01, ...,\n",
      "        -6.92066521e-07,  -1.75650348e-05,  -1.07063306e-05], dtype=float32), 22050)\n",
      "(array([  5.10227568e-02,  -9.37651917e-02,   1.42940417e-01, ...,\n",
      "         5.13204031e-05,   5.85248890e-05,   0.00000000e+00], dtype=float32), 22050)\n",
      "(array([  4.63445708e-02,  -1.81912795e-01,  -1.16941132e-01, ...,\n",
      "         3.75703203e-05,   4.97594738e-05,   0.00000000e+00], dtype=float32), 22050)\n",
      "(array([ -2.73089623e-03,  -4.00467992e-01,  -2.35110849e-01, ...,\n",
      "         8.28994689e-06,  -1.13555870e-05,  -9.47180342e-06], dtype=float32), 22050)\n",
      "(array([  4.92962897e-02,  -9.40073431e-02,   1.31316662e-01, ...,\n",
      "         9.40616019e-07,  -5.22783557e-06,  -5.46727551e-06], dtype=float32), 22050)\n"
     ]
    }
   ],
   "source": [
    "kick_signals = []\n",
    "\n",
    "for i in range(1,7):\n",
    "    kick_signal = librosa.load('./snare/'+str(i)+'.aif')\n",
    "    print kick_signal\n",
    "    \n",
    "    kick_signals.append(kick_signal)"
   ]
  },
  {
   "cell_type": "code",
   "execution_count": 41,
   "metadata": {},
   "outputs": [
    {
     "data": {
      "image/png": "[encoded data removed]",
      "text/plain": [
       "<matplotlib.figure.Figure at 0x7fd96a81a150>"
      ]
     },
     "metadata": {},
     "output_type": "display_data"
    }
   ],
   "source": [
    "for i in range(6):\n",
    "    plt.subplot(2,3,i+1)\n",
    "    librosa.display.waveplot(kick_signals[i][0])\n",
    "    "
   ]
  },
  {
   "cell_type": "code",
   "execution_count": 36,
   "metadata": {},
   "outputs": [
    {
     "name": "stdout",
     "output_type": "stream",
     "text": [
      "43\n",
      "43\n",
      "43\n",
      "43\n",
      "43\n",
      "43\n"
     ]
    }
   ],
   "source": [
    "for i in range(6):\n",
    "    print(librosa.feature.zero_crossing_rate(kick_signals[i][0]).size)"
   ]
  },
  {
   "cell_type": "code",
   "execution_count": 31,
   "metadata": {},
   "outputs": [
    {
     "data": {
      "text/plain": [
       "43"
      ]
     },
     "execution_count": 31,
     "metadata": {},
     "output_type": "execute_result"
    }
   ],
   "source": []
  },
  {
   "cell_type": "code",
   "execution_count": 37,
   "metadata": {},
   "outputs": [
    {
     "data": {
      "text/plain": [
       "array([  4.92962897e-02,  -9.40073431e-02,   1.31316662e-01, ...,\n",
       "         9.40616019e-07,  -5.22783557e-06,  -5.46727551e-06], dtype=float32)"
      ]
     },
     "execution_count": 37,
     "metadata": {},
     "output_type": "execute_result"
    }
   ],
   "source": [
    "kick_signals[i][0]"
   ]
  },
  {
   "cell_type": "code",
   "execution_count": null,
   "metadata": {
    "collapsed": true
   },
   "outputs": [],
   "source": []
  }
 ],
 "metadata": {
  "kernelspec": {
   "display_name": "mltensorflow",
   "language": "python",
   "name": "mltensorflow"
  },
  "language_info": {
   "codemirror_mode": {
    "name": "ipython",
    "version": 2
   },
   "file_extension": ".py",
   "mimetype": "text/x-python",
   "name": "python",
   "nbconvert_exporter": "python",
   "pygments_lexer": "ipython2",
   "version": "2.7.12"
  }
 },
 "nbformat": 4,
 "nbformat_minor": 2
}
